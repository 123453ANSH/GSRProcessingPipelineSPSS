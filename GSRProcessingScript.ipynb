{
 "cells": [
  {
   "cell_type": "code",
   "execution_count": 1,
   "metadata": {
    "collapsed": true
   },
   "outputs": [
    {
     "name": "stdout",
     "output_type": "stream",
     "text": [
      "hi\n"
     ]
    }
   ],
   "source": [
    "\"\"\"\n",
    "not using this pycharm fn right now because I do not want to\n",
    "rely on my knowledge of jupyter notebooks to finish program\n",
    "in pycharm, but rather learn this idea to finish project,\n",
    "since future software development will be done in ide's like\n",
    "this\n",
    "\"\"\"\n",
    "print(\"hi\")\n",
    "def anshfunc(x, y):\n",
    "    x += 1\n",
    "    y += 1\n",
    "    while ( x < 5 ):\n",
    "        x += 1\n",
    "    print(x, y)\n"
   ]
  }
 ],
 "metadata": {
  "kernelspec": {
   "display_name": "Python 3",
   "language": "python",
   "name": "python3"
  },
  "language_info": {
   "codemirror_mode": {
    "name": "ipython",
    "version": 2
   },
   "file_extension": ".py",
   "mimetype": "text/x-python",
   "name": "python",
   "nbconvert_exporter": "python",
   "pygments_lexer": "ipython2",
   "version": "2.7.6"
  }
 },
 "nbformat": 4,
 "nbformat_minor": 0
}